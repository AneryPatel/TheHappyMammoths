{
  "nbformat": 4,
  "nbformat_minor": 0,
  "metadata": {
    "colab": {
      "name": "Checkpoint_4.ipynb",
      "provenance": [],
      "collapsed_sections": []
    },
    "kernelspec": {
      "display_name": "Python 3",
      "name": "python3"
    },
    "language_info": {
      "name": "python"
    }
  },
  "cells": [
    {
      "cell_type": "markdown",
      "metadata": {
        "id": "bZLmjFfptsX0"
      },
      "source": [
        "***Instructions to run the colab file: *** In case of any Java error, one should always first try to restart the runtime from 'Runtime' dropdown menu and rerun the cells because Spark session could have been disrupted. "
      ]
    },
    {
      "cell_type": "code",
      "metadata": {
        "colab": {
          "base_uri": "https://localhost:8080/"
        },
        "id": "ZTR8nqD_ZvtI",
        "outputId": "3b39bf96-e8c0-4580-9316-282413cb80d8"
      },
      "source": [
        "# install java\n",
        "!apt-get install openjdk-8-jdk-headless -qq > /dev/null\n",
        "\n",
        "# install spark (change the version number if needed)\n",
        "!wget -q https://archive.apache.org/dist/spark/spark-3.2.0/spark-3.2.0-bin-hadoop3.2.tgz\n",
        "\n",
        "# unzip the spark file to the current folder\n",
        "!tar xf spark-3.2.0-bin-hadoop3.2.tgz\n",
        "\n",
        "# set your spark folder to your system path environment. \n",
        "import os\n",
        "os.environ[\"JAVA_HOME\"] = \"/usr/lib/jvm/java-8-openjdk-amd64\"\n",
        "os.environ[\"SPARK_HOME\"] = \"/content/spark-3.2.0-bin-hadoop3.2\"\n",
        "\n",
        "# install findspark using pip\n",
        "!pip install -q findspark\n",
        "\n",
        "# install pyspark\n",
        "!pip3 install pyspark==3.2.0\n",
        "\n",
        "# install graphframes\n",
        "!pip3 install graphframes"
      ],
      "execution_count": null,
      "outputs": [
        {
          "output_type": "stream",
          "name": "stdout",
          "text": [
            "Collecting pyspark==3.2.0\n",
            "  Downloading pyspark-3.2.0.tar.gz (281.3 MB)\n",
            "\u001b[K     |████████████████████████████████| 281.3 MB 44 kB/s \n",
            "\u001b[?25hCollecting py4j==0.10.9.2\n",
            "  Downloading py4j-0.10.9.2-py2.py3-none-any.whl (198 kB)\n",
            "\u001b[K     |████████████████████████████████| 198 kB 69.0 MB/s \n",
            "\u001b[?25hBuilding wheels for collected packages: pyspark\n",
            "  Building wheel for pyspark (setup.py) ... \u001b[?25l\u001b[?25hdone\n",
            "  Created wheel for pyspark: filename=pyspark-3.2.0-py2.py3-none-any.whl size=281805912 sha256=8e9e0e3621c9be0af70efcafbdf8837bd6d297169e47ab11d549796e5e910b7f\n",
            "  Stored in directory: /root/.cache/pip/wheels/0b/de/d2/9be5d59d7331c6c2a7c1b6d1a4f463ce107332b1ecd4e80718\n",
            "Successfully built pyspark\n",
            "Installing collected packages: py4j, pyspark\n",
            "Successfully installed py4j-0.10.9.2 pyspark-3.2.0\n",
            "Collecting graphframes\n",
            "  Downloading graphframes-0.6-py2.py3-none-any.whl (18 kB)\n",
            "Collecting nose\n",
            "  Downloading nose-1.3.7-py3-none-any.whl (154 kB)\n",
            "\u001b[K     |████████████████████████████████| 154 kB 6.8 MB/s \n",
            "\u001b[?25hRequirement already satisfied: numpy in /usr/local/lib/python3.7/dist-packages (from graphframes) (1.19.5)\n",
            "Installing collected packages: nose, graphframes\n",
            "Successfully installed graphframes-0.6 nose-1.3.7\n"
          ]
        }
      ]
    },
    {
      "cell_type": "markdown",
      "metadata": {
        "id": "K-bQg5urtlMr"
      },
      "source": [
        "Download the graphframes jar file from: [Graphframe jar file:](https://repos.spark-packages.org/graphframes/graphframes/0.8.2-spark3.2-s_2.12/graphframes-0.8.2-spark3.2-s_2.12.jar)\n",
        "\n",
        "Upload it in the Google Colab Files folder. Can be found in the left pane of this window."
      ]
    },
    {
      "cell_type": "code",
      "metadata": {
        "colab": {
          "base_uri": "https://localhost:8080/"
        },
        "id": "w4SflbxPa7Q_",
        "outputId": "285286f8-b236-4af9-d717-05d0e2436fe4"
      },
      "source": [
        "!cp -v /content/graphframes-0.8.2-spark3.2-s_2.12.jar $SPARK_HOME/jars/"
      ],
      "execution_count": null,
      "outputs": [
        {
          "output_type": "stream",
          "name": "stdout",
          "text": [
            "'/content/graphframes-0.8.2-spark3.2-s_2.12.jar' -> '/content/spark-3.2.0-bin-hadoop3.2/jars/graphframes-0.8.2-spark3.2-s_2.12.jar'\n"
          ]
        }
      ]
    },
    {
      "cell_type": "code",
      "metadata": {
        "colab": {
          "base_uri": "https://localhost:8080/"
        },
        "id": "rT76xfpbbC-J",
        "outputId": "c44fb744-fe33-4d1a-ee7c-c7fc7fd5b1d2"
      },
      "source": [
        "#import the packages\n",
        "from pyspark import *\n",
        "from pyspark.sql import *\n",
        "from graphframes import *\n",
        "import findspark\n",
        "import pandas as pd\n",
        "import psycopg2\n",
        "import networkx as nx\n",
        "import operator\n",
        "from pyspark.sql.functions import monotonically_increasing_id \n",
        "\n",
        "# ----- Connect to the PostgreSQL Database -------\n",
        "conn = psycopg2.connect(\n",
        "    host=\"codd01.research.northwestern.edu\",\n",
        "    database=\"postgres\",\n",
        "    user=\"cpdbstudent\",\n",
        "    password=\"DataSci4AI\")\n",
        "\n",
        "findspark.init()\n",
        "\n",
        "# Start a Spark session\n",
        "spark = SparkSession.builder.master(\"local[*]\").getOrCreate()"
      ],
      "execution_count": null,
      "outputs": [
        {
          "output_type": "stream",
          "name": "stderr",
          "text": [
            "/usr/local/lib/python3.7/dist-packages/psycopg2/__init__.py:144: UserWarning: The psycopg2 wheel package will be renamed from release 2.8; in order to keep installing from binary please use \"pip install psycopg2-binary\" instead. For details see: <http://initd.org/psycopg/docs/install.html#binary-install-from-pypi>.\n",
            "  \"\"\")\n"
          ]
        }
      ]
    },
    {
      "cell_type": "markdown",
      "metadata": {
        "id": "6cmzHYPisQ3J"
      },
      "source": [
        "## **Q1. Network Analysis of officers and investigators to study the influence of their relationship on disciplinary action for unsustained allegations**"
      ]
    },
    {
      "cell_type": "code",
      "metadata": {
        "colab": {
          "base_uri": "https://localhost:8080/"
        },
        "id": "sRmf7pqWsaPd",
        "outputId": "111704e6-7b62-4f04-bd78-90ddd1467228"
      },
      "source": [
        "# --------- Q1: Community Detection ---------\n",
        "# Extract tables from CPDB Database\n",
        "# Vertices: Investigators i and Officers o\n",
        "# Edges: Investigator i investigating in an allegation accusing an officer o\n",
        "edge_query = \"SELECT CAST(di.investigator_id as varchar) || '_i' as src, CAST(d.officer_id as varchar) || '_o' as dst, di.allegation_id as relationship FROM data_investigatorallegation di JOIN (SELECT allegation_id, officer_id FROM data_allegation a JOIN data_officerallegation d on a.crid = d.allegation_id WHERE final_finding = 'UN' OR final_finding = 'EX' OR final_finding = 'NS' AND a.is_officer_complaint = FALSE) d on di.allegation_id = d.allegation_id\"\n",
        "edges_df = pd.read_sql_query(edge_query, con=conn)\n",
        "\n",
        "vertex_query = \"SELECT CAST(di.investigator_id as varchar) || '_i' as id, d.first_name || ' ' || d.last_name as name FROM data_investigatorallegation di join data_investigator d on di.investigator_id = d.id union SELECT CAST(doa.officer_id as varchar) || '_o' as inv_id, first_name || ' ' || last_name as name FROM data_officerallegation doa JOIN data_officer o on doa.officer_id = o.id\"\n",
        "vertices_df = pd.read_sql_query(vertex_query, con=conn)\n",
        "\n",
        "df_1 = vertices_df[vertices_df.id.isin(edges_df.dst)]\n",
        "df_2 = vertices_df[vertices_df.id.isin(edges_df.src)]\n",
        "frames = [df_1, df_2]\n",
        "  \n",
        "vertices_df = pd.concat(frames)\n",
        "\n",
        "# Create Spark dataframes\n",
        "edges = spark.createDataFrame(edges_df)\n",
        "vertices = spark.createDataFrame(vertices_df)\n",
        "\n",
        "print(' Unique vertices in our graph: ', vertices_df.id.nunique())\n",
        "print(' Unique edges in our graph: ', edges_df.relationship.nunique())\n",
        "print(' Total number of investigators in our graph: ', edges_df.src.nunique())\n",
        "print(' Total number of officers in our graph: ', edges_df.dst.nunique())"
      ],
      "execution_count": null,
      "outputs": [
        {
          "output_type": "stream",
          "name": "stdout",
          "text": [
            " Unique vertices in our graph:  17353\n",
            " Unique edges in our graph:  41210\n",
            " Total number of investigators in our graph:  3011\n",
            " Total number of officers in our graph:  14342\n"
          ]
        }
      ]
    },
    {
      "cell_type": "code",
      "metadata": {
        "id": "qby3HDdmseXP"
      },
      "source": [
        "# Create the graph\n",
        "graph1 = GraphFrame(vertices, edges)"
      ],
      "execution_count": null,
      "outputs": []
    },
    {
      "cell_type": "code",
      "metadata": {
        "colab": {
          "base_uri": "https://localhost:8080/"
        },
        "id": "b4yAq6nzsglD",
        "outputId": "38004e3e-e937-451a-b75f-34c935dd0e9b"
      },
      "source": [
        "# Display vertices\n",
        "graph1.vertices.show()"
      ],
      "execution_count": null,
      "outputs": [
        {
          "output_type": "stream",
          "name": "stdout",
          "text": [
            "+-------+-----------------+\n",
            "|     id|             name|\n",
            "+-------+-----------------+\n",
            "|10000_o|Timothy Gilliland|\n",
            "|10001_o|    David Gillott|\n",
            "|10002_o|      Debra Gills|\n",
            "|10005_o|   Anthony Gillum|\n",
            "|10007_o|   Gregory Gilmer|\n",
            "|10012_o|   Horace Gilmore|\n",
            "|10014_o|  Patrick Gilmore|\n",
            "|10017_o|    Steve Gilmour|\n",
            "| 1001_o|    Michael Ayala|\n",
            "|10020_o|    John Giltmier|\n",
            "|10022_o|    Beth Giltmier|\n",
            "|10024_o|   Steven Gimenez|\n",
            "|10029_o|  Joseph Giorango|\n",
            "| 1002_o|     Fausto Ayala|\n",
            "|10030_o|   Caryl Giordano|\n",
            "|10031_o|  Nicola Giordano|\n",
            "|10033_o|Vito Giovannielli|\n",
            "|10036_o|    Lamont Gipson|\n",
            "|10038_o|    Darius Gipson|\n",
            "|10043_o|   Robert Girardi|\n",
            "+-------+-----------------+\n",
            "only showing top 20 rows\n",
            "\n"
          ]
        }
      ]
    },
    {
      "cell_type": "code",
      "metadata": {
        "colab": {
          "base_uri": "https://localhost:8080/"
        },
        "id": "iSBFGvZxsgoZ",
        "outputId": "c0310f88-559d-4f74-d1d2-2cd09f4e1014"
      },
      "source": [
        "# Display edges\n",
        "graph1.edges.show()"
      ],
      "execution_count": null,
      "outputs": [
        {
          "output_type": "stream",
          "name": "stdout",
          "text": [
            "+------+-------+------------+\n",
            "|   src|    dst|relationship|\n",
            "+------+-------+------------+\n",
            "|4487_i|31001_o|      260473|\n",
            "|2985_i|16043_o|     1022748|\n",
            "|3224_i|16043_o|     1022748|\n",
            "|3208_i|19438_o|     1025931|\n",
            "|3104_i|30366_o|     1042143|\n",
            "|2163_i|30366_o|     1042143|\n",
            "|1725_i|30366_o|     1042143|\n",
            "|3166_i|30366_o|     1042143|\n",
            "|4134_i|20053_o|      276924|\n",
            "|3026_i|29568_o|      264936|\n",
            "|4146_i|19921_o|      268878|\n",
            "|1630_i| 8690_o|     1081748|\n",
            "|1736_i|14058_o|     1081476|\n",
            "|1471_i|14058_o|     1081476|\n",
            "|1440_i|14058_o|     1081476|\n",
            "|1498_i|14058_o|     1081476|\n",
            "|1736_i|24844_o|     1081476|\n",
            "|1471_i|24844_o|     1081476|\n",
            "|1440_i|24844_o|     1081476|\n",
            "|1498_i|24844_o|     1081476|\n",
            "+------+-------+------------+\n",
            "only showing top 20 rows\n",
            "\n"
          ]
        }
      ]
    },
    {
      "cell_type": "markdown",
      "metadata": {
        "id": "fkf70v2TsmHZ"
      },
      "source": [
        "### **Count the number of co-occurrences of every distinct pair of investigators and officers**"
      ]
    },
    {
      "cell_type": "code",
      "metadata": {
        "colab": {
          "base_uri": "https://localhost:8080/"
        },
        "id": "udB4X2casj60",
        "outputId": "4b4763e4-59b9-4b8b-afe9-c1ad2454a799"
      },
      "source": [
        "series = edges_df[['src','dst']].value_counts()\n",
        "series.head(15)"
      ],
      "execution_count": null,
      "outputs": [
        {
          "output_type": "execute_result",
          "data": {
            "text/plain": [
              "src     dst    \n",
              "3886_i  23841_o    24\n",
              "2538_i  32166_o    24\n",
              "3886_i  8562_o     23\n",
              "2538_i  12478_o    21\n",
              "3886_i  3454_o     20\n",
              "3278_i  2725_o     20\n",
              "3886_i  18076_o    17\n",
              "3836_i  8386_o     16\n",
              "3278_i  32164_o    16\n",
              "3886_i  27778_o    15\n",
              "2815_i  25039_o    15\n",
              "3836_i  8620_o     15\n",
              "2512_i  31837_o    14\n",
              "3278_i  21615_o    14\n",
              "3836_i  18205_o    13\n",
              "dtype: int64"
            ]
          },
          "metadata": {},
          "execution_count": 8
        }
      ]
    },
    {
      "cell_type": "code",
      "metadata": {
        "colab": {
          "base_uri": "https://localhost:8080/"
        },
        "id": "Cl8s4FMsso8j",
        "outputId": "8a3b051e-96c2-4ba2-8648-5ee5250a971e"
      },
      "source": [
        "edges_df[edges_df['src']=='3886_i'].nunique()\n",
        "# edges_df[edges_df['dst']=='3277_o'][edges_df['src']=='3886_i']"
      ],
      "execution_count": null,
      "outputs": [
        {
          "output_type": "execute_result",
          "data": {
            "text/plain": [
              "src              1\n",
              "dst             51\n",
              "relationship    54\n",
              "dtype: int64"
            ]
          },
          "metadata": {},
          "execution_count": 9
        }
      ]
    },
    {
      "cell_type": "markdown",
      "metadata": {
        "id": "q4qqKFaqsq68"
      },
      "source": [
        "### **Connected Components**"
      ]
    },
    {
      "cell_type": "code",
      "metadata": {
        "id": "xI42QZ93stQY"
      },
      "source": [
        "from pyspark.context import SparkContext\n",
        "sc = SparkContext.getOrCreate(SparkConf())\n",
        "sc.setCheckpointDir('/content/sample_data')\n"
      ],
      "execution_count": null,
      "outputs": []
    },
    {
      "cell_type": "code",
      "metadata": {
        "colab": {
          "base_uri": "https://localhost:8080/"
        },
        "id": "wc_k3a_Esvj5",
        "outputId": "04b304d3-e0d9-43fc-8bf6-149131dceb3b"
      },
      "source": [
        "# This cell takes approx 3 min to finish running\n",
        "result = graph1.connectedComponents()\n",
        "result.show()"
      ],
      "execution_count": null,
      "outputs": [
        {
          "output_type": "stream",
          "name": "stdout",
          "text": [
            "+-------+-----------------+---------+\n",
            "|     id|             name|component|\n",
            "+-------+-----------------+---------+\n",
            "|10000_o|Timothy Gilliland|        0|\n",
            "|10001_o|    David Gillott|        0|\n",
            "|10002_o|      Debra Gills|        0|\n",
            "|10005_o|   Anthony Gillum|        0|\n",
            "|10007_o|   Gregory Gilmer|        0|\n",
            "|10012_o|   Horace Gilmore|        0|\n",
            "|10014_o|  Patrick Gilmore|        0|\n",
            "|10017_o|    Steve Gilmour|        0|\n",
            "| 1001_o|    Michael Ayala|        0|\n",
            "|10020_o|    John Giltmier|        0|\n",
            "|10022_o|    Beth Giltmier|        0|\n",
            "|10024_o|   Steven Gimenez|        0|\n",
            "|10029_o|  Joseph Giorango|        0|\n",
            "| 1002_o|     Fausto Ayala|        0|\n",
            "|10030_o|   Caryl Giordano|        0|\n",
            "|10031_o|  Nicola Giordano|        0|\n",
            "|10033_o|Vito Giovannielli|        0|\n",
            "|10036_o|    Lamont Gipson|        0|\n",
            "|10038_o|    Darius Gipson|        0|\n",
            "|10043_o|   Robert Girardi|        0|\n",
            "+-------+-----------------+---------+\n",
            "only showing top 20 rows\n",
            "\n"
          ]
        }
      ]
    },
    {
      "cell_type": "code",
      "metadata": {
        "colab": {
          "base_uri": "https://localhost:8080/"
        },
        "id": "BllzDHqFtEH8",
        "outputId": "5419d908-8ffa-49ef-b09f-3a48175c5bb0"
      },
      "source": [
        "# Check the number of unique components present in the graph\n",
        "result_df = result.toPandas()\n",
        "print('There are {} connected components in our graph.'.format(result_df.component.nunique()))\n",
        "# result_df.groupby('component').head()"
      ],
      "execution_count": null,
      "outputs": [
        {
          "output_type": "stream",
          "name": "stdout",
          "text": [
            "There are 51 connected components in our graph.\n"
          ]
        }
      ]
    },
    {
      "cell_type": "code",
      "metadata": {
        "colab": {
          "base_uri": "https://localhost:8080/"
        },
        "id": "nERy1HMHtFvN",
        "outputId": "b31539b8-ada0-40ac-c53a-f343dc964e63"
      },
      "source": [
        "# Check the number of nodes within a component.\n",
        "result_df.component.value_counts().head(10)"
      ],
      "execution_count": null,
      "outputs": [
        {
          "output_type": "execute_result",
          "data": {
            "text/plain": [
              "0                17240\n",
              "438086664195         4\n",
              "824633720857         3\n",
              "721554505808         3\n",
              "274877907024         3\n",
              "292057776162         3\n",
              "206158430212         3\n",
              "1125281431556        3\n",
              "180388626439         3\n",
              "180388626441         3\n",
              "Name: component, dtype: int64"
            ]
          },
          "metadata": {},
          "execution_count": 13
        }
      ]
    },
    {
      "cell_type": "markdown",
      "metadata": {
        "id": "YGvNmWpDtIdl"
      },
      "source": [
        "### **Outdegrees of graph1**"
      ]
    },
    {
      "cell_type": "code",
      "metadata": {
        "colab": {
          "base_uri": "https://localhost:8080/"
        },
        "id": "Lk_WHp0XtJVY",
        "outputId": "217eb4db-32e5-4b08-b78a-6c32d9396eca"
      },
      "source": [
        "x = graph1.outDegrees\n",
        "x.orderBy('outDegree', ascending=False).show()"
      ],
      "execution_count": null,
      "outputs": [
        {
          "output_type": "stream",
          "name": "stdout",
          "text": [
            "+------+---------+\n",
            "|    id|outDegree|\n",
            "+------+---------+\n",
            "|1438_i|     2497|\n",
            "|1657_i|     2093|\n",
            "|2376_i|     1888|\n",
            "|2472_i|     1593|\n",
            "|1715_i|     1500|\n",
            "|2970_i|     1485|\n",
            "|2994_i|     1475|\n",
            "|1595_i|     1448|\n",
            "|2985_i|     1440|\n",
            "|3183_i|     1358|\n",
            "|3270_i|     1286|\n",
            "|3062_i|     1200|\n",
            "|2724_i|     1182|\n",
            "|3028_i|     1163|\n",
            "|1419_i|     1018|\n",
            "|2375_i|     1018|\n",
            "|1667_i|      955|\n",
            "|1688_i|      949|\n",
            "|3204_i|      914|\n",
            "|1676_i|      877|\n",
            "+------+---------+\n",
            "only showing top 20 rows\n",
            "\n"
          ]
        }
      ]
    },
    {
      "cell_type": "markdown",
      "metadata": {
        "id": "I0GIQwuBtOQp"
      },
      "source": [
        "## **Q2. Centrality Analysis of police officers co-accused in unsustained allegations**"
      ]
    },
    {
      "cell_type": "code",
      "metadata": {
        "id": "3xpK6EyUw0pA"
      },
      "source": [
        "# --------- Q2: Central Analysis ---------\n",
        "# Extract tables from CPDB Database\n",
        "pd_trr_trr = pd.read_sql_query(\"select officer_id, officer_unit_id from trr_trr\", con=conn)\n",
        "pd_data_officer = pd.read_sql_query(\"select id, first_name || ' ' || last_name officer_name, unsustained_count from data_officer\", con=conn)\n",
        "edges_query = \"SELECT da1.officer_id src, da2.officer_id dst, COUNT(DISTINCT da1.allegation_id) relationship FROM data_officerallegation da1 JOIN data_officerallegation da2 ON da1.allegation_id = da2.allegation_id AND da1.officer_id < da2.officer_id GROUP BY da1.officer_id, da2.officer_id ORDER BY count(*) DESC;\""
      ],
      "execution_count": null,
      "outputs": []
    },
    {
      "cell_type": "code",
      "metadata": {
        "id": "Pizl999k0-Ig"
      },
      "source": [
        "# Vertices of the graph: Polices officers and its count of unsustained allegations\n",
        "sp_officers_vertices = spark.createDataFrame(pd_data_officer)"
      ],
      "execution_count": null,
      "outputs": []
    },
    {
      "cell_type": "code",
      "metadata": {
        "id": "v7_I00BbKXjF"
      },
      "source": [
        "# Edges of the graph: Relationship between officers reported in same allegations\n",
        "df_edges = pd.read_sql_query(edges_query, con=conn)"
      ],
      "execution_count": null,
      "outputs": []
    },
    {
      "cell_type": "code",
      "metadata": {
        "colab": {
          "base_uri": "https://localhost:8080/"
        },
        "id": "mSazwzoWSCua",
        "outputId": "dbd19054-a0be-4e5e-a6e2-326348211010"
      },
      "source": [
        "sp_edges = spark.createDataFrame(df_edges)\n",
        "sp_edges.show()"
      ],
      "execution_count": null,
      "outputs": [
        {
          "output_type": "stream",
          "name": "stdout",
          "text": [
            "+-----+-----+------------+\n",
            "|  src|  dst|relationship|\n",
            "+-----+-----+------------+\n",
            "|12478|32166|          53|\n",
            "| 8562|27778|          47|\n",
            "| 1553|10724|          43|\n",
            "| 2725|21703|          41|\n",
            "| 3605|14442|          41|\n",
            "|12479|20713|          40|\n",
            "| 8658|13788|          38|\n",
            "|14045|15502|          37|\n",
            "| 2369| 7015|          36|\n",
            "| 1553|16699|          35|\n",
            "|12074|12825|          35|\n",
            "| 8852|31119|          35|\n",
            "|15360|23239|          34|\n",
            "|13361|20150|          34|\n",
            "| 8562|23841|          32|\n",
            "| 8562|18206|          32|\n",
            "|32265|32347|          32|\n",
            "|31882|32401|          32|\n",
            "|31119|32336|          32|\n",
            "|27415|32172|          31|\n",
            "+-----+-----+------------+\n",
            "only showing top 20 rows\n",
            "\n"
          ]
        }
      ]
    },
    {
      "cell_type": "code",
      "metadata": {
        "id": "lebReq3gSnvj"
      },
      "source": [
        "g = GraphFrame(sp_officers_vertices, sp_edges)"
      ],
      "execution_count": null,
      "outputs": []
    },
    {
      "cell_type": "markdown",
      "metadata": {
        "id": "36DyPE8jujUF"
      },
      "source": [
        "### **Triangle Count Algorithm: to check connectivity of officers within the network**"
      ]
    },
    {
      "cell_type": "code",
      "metadata": {
        "colab": {
          "base_uri": "https://localhost:8080/"
        },
        "id": "WdYrE53LehJB",
        "outputId": "3ac66642-3c12-4c23-a346-abaea712776d"
      },
      "source": [
        "triangle = g.triangleCount()\n",
        "lenght = triangle.count()\n",
        "triangle = triangle.orderBy('count', ascending=False)\n",
        "triangle = triangle.select(\"*\").withColumn(\"index\", monotonically_increasing_id())\n",
        "triangle = triangle.select(\"*\").withColumn(\"percentile\", (lenght-monotonically_increasing_id())/lenght)\n",
        "triangle.show()"
      ],
      "execution_count": null,
      "outputs": [
        {
          "output_type": "stream",
          "name": "stdout",
          "text": [
            "+-----+-----+------------------+-----------------+-----+------------------+\n",
            "|count|   id|      officer_name|unsustained_count|index|        percentile|\n",
            "+-----+-----+------------------+-----------------+-----+------------------+\n",
            "|32118| 6315|     Terence Davis|             19.0|    0|               1.0|\n",
            "|32117| 3033|    Raimondo Brown|              8.0|    1| 0.999971866647911|\n",
            "|32073| 3744|    Derek Campbell|              5.0|    2|0.9999437332958222|\n",
            "|27855|18042|     Donald Mc Coy|              9.0|    3|0.9999155999437332|\n",
            "|27823|  441|   Fernando Alonzo|             12.0|    4|0.9998874665916444|\n",
            "|23900|21530|Michael Overstreet|             36.0|    5|0.9998593332395554|\n",
            "|23518|27349|   Charles Stanton|              2.0|    6|0.9998311998874666|\n",
            "|23499| 5180|    Stephen Conner|              4.0|    7|0.9998030665353776|\n",
            "|23487| 5667|     Jerry Crawley|             14.0|    8|0.9997749331832888|\n",
            "|23477|16747|     Evetta Lundin|              4.0|    9|0.9997467998311999|\n",
            "|23475| 8844|      Thomas Flynn|             10.0|   10| 0.999718666479111|\n",
            "|23472|23654|        Lloyd Reid|              0.0|   11| 0.999690533127022|\n",
            "|23472|14750|   William Kissane|             13.0|   12|0.9996623997749332|\n",
            "|20185|19856|   Ronald Muhammad|              5.0|   13|0.9996342664228443|\n",
            "|19322| 8138|       Glenn Evans|             74.0|   14|0.9996061330707554|\n",
            "|18773|29882|       Fred Waller|             41.0|   15|0.9995779997186665|\n",
            "|18648|28273|      James Taylor|             15.0|   16|0.9995498663665776|\n",
            "|18602|28459|     Curtis Thomas|             20.0|   17|0.9995217330144887|\n",
            "|18539| 5577|       Michael Cox|             14.0|   18|0.9994935996623998|\n",
            "|18502|30841|   Teresa Williams|             22.0|   19|0.9994654663103109|\n",
            "+-----+-----+------------------+-----------------+-----+------------------+\n",
            "only showing top 20 rows\n",
            "\n"
          ]
        }
      ]
    },
    {
      "cell_type": "code",
      "metadata": {
        "colab": {
          "base_uri": "https://localhost:8080/"
        },
        "id": "Ev314eSBtJJo",
        "outputId": "3569ab03-f60a-4d48-971f-960747bc7f4c"
      },
      "source": [
        "unsustained_count = triangle.na.drop()\n",
        "unsustained_count = unsustained_count.orderBy('unsustained_count', ascending=False)\n",
        "unsustained_count.show()"
      ],
      "execution_count": null,
      "outputs": [
        {
          "output_type": "stream",
          "name": "stdout",
          "text": [
            "+-----+-----+-----------------+-----------------+-----+------------------+\n",
            "|count|   id|     officer_name|unsustained_count|index|        percentile|\n",
            "+-----+-----+-----------------+-----------------+-----+------------------+\n",
            "| 1251| 8562|  Jerome Finnigan|            112.0|  588| 0.983457588971726|\n",
            "|  244|28805|  Charles Toussas|             87.0| 2106|0.9407511605007737|\n",
            "| 1402|17816|       Edward May|             87.0|  567|0.9840483893655929|\n",
            "|  244|10890|     James Grubbs|             79.0| 2103|0.9408355605570403|\n",
            "|   94|21837|       Joe Parker|             78.0| 4689|0.8680827120551414|\n",
            "|  329|29033|Jerome Turbyville|             76.0| 1529|0.9569841046560698|\n",
            "|  129| 4807|  Maurice Clayton|             75.0| 3703|0.8958221972147982|\n",
            "|19322| 8138|      Glenn Evans|             74.0|   14|0.9996061330707554|\n",
            "|  118|13788|  Broderick Jones|             73.0| 4001|0.8874384582923055|\n",
            "| 1369| 2356|      Harold Bone|             67.0|  572|0.9839077226051484|\n",
            "|  125|13391|   Tyrone Jenkins|             67.0| 3786|0.8934871289914194|\n",
            "|  266|13095|  Gregory Jackson|             66.0| 1935|0.9455619637079758|\n",
            "|  270|31631|    Adam Zelitzky|             65.0| 1904|0.9464340976227318|\n",
            "| 2242| 8658|      Corey Flagg|             63.0|  492|0.9861583907722605|\n",
            "|  215|17285|     Edward Maras|             62.0| 2398|0.9325362216908145|\n",
            "|  453|25306|    James Sanchez|             61.0| 1099|0.9690814460542974|\n",
            "|   76|28740|   Ignacio Torres|             59.0| 5455|0.8465325643550429|\n",
            "|  774|32166|Emmett Mc Clendon|             58.0|  710|  0.98002532001688|\n",
            "| 9933|12478|      Ronald Holt|             56.0|  365| 0.989731326487551|\n",
            "|  153| 1901|        Joe Berry|             56.0| 3233|0.9090448726965819|\n",
            "+-----+-----+-----------------+-----------------+-----+------------------+\n",
            "only showing top 20 rows\n",
            "\n"
          ]
        }
      ]
    },
    {
      "cell_type": "code",
      "metadata": {
        "colab": {
          "base_uri": "https://localhost:8080/"
        },
        "id": "W61n_T5GHS__",
        "outputId": "dbc50a6b-c16a-4f34-b136-c6314e0ff8c0"
      },
      "source": [
        "# Summary table of triangle count\n",
        "dataframe_un = triangle.toPandas()\n",
        "percentile_list = [0.0] * 6\n",
        "count = [0] * 6\n",
        "triangle_list = [0] * 6\n",
        "\n",
        "for i,row in dataframe_un.iterrows():\n",
        "  unsustained_count = row['unsustained_count']\n",
        "  percentile = row['percentile']\n",
        "  trian = row['count']\n",
        "\n",
        "  if unsustained_count >= 50:\n",
        "    count[5]=count[5]+1\n",
        "    percentile_list[5] = percentile_list[5] + percentile\n",
        "    triangle_list[5] = triangle_list[5] + trian\n",
        "\n",
        "  elif unsustained_count >= 40 and unsustained_count < 50:\n",
        "    count[4]=count[4]+1\n",
        "    percentile_list[4] = percentile_list[4] + percentile\n",
        "    triangle_list[4] = triangle_list[4] + trian\n",
        "\n",
        "  elif unsustained_count >= 30 and unsustained_count < 40:\n",
        "    count[3]=count[3]+1\n",
        "    percentile_list[3] = percentile_list[3] + percentile\n",
        "    triangle_list[3] = triangle_list[3] + trian\n",
        "\n",
        "  elif unsustained_count >= 20 and unsustained_count < 30:\n",
        "    count[2]=count[2]+1\n",
        "    percentile_list[2] = percentile_list[2] + percentile\n",
        "    triangle_list[2] = triangle_list[2] + trian\n",
        "\n",
        "  elif unsustained_count >= 10 and unsustained_count < 20:\n",
        "    count[1]=count[1]+1\n",
        "    percentile_list[1] = percentile_list[1] + percentile\n",
        "    triangle_list[1] = triangle_list[1] + trian\n",
        "\n",
        "  elif unsustained_count < 10:\n",
        "    count[0]=count[0]+1\n",
        "    percentile_list[0] = percentile_list[0] + percentile\n",
        "    triangle_list[0] = triangle_list[0] + trian\n",
        "\n",
        "summary = pd.DataFrame()\n",
        "percentile_avg = []\n",
        "range_i = []\n",
        "triangle_i = []\n",
        "iteration = [0,1,2,3,4,5]\n",
        "\n",
        "for k in iteration: \n",
        "  percent_aux = percentile_list[k]/ count[k]\n",
        "  range_aux = str(10*k)+\" - \"+str(10*(k+1))\n",
        "  triangle_aux = triangle_list[k]/ count[k]\n",
        "  range_i.append(range_aux)\n",
        "  percentile_avg.append(percent_aux)\n",
        "  triangle_i.append(triangle_aux)\n",
        "\n",
        "summary['range'] = range_i\n",
        "summary['percentile avg'] = percentile_avg\n",
        "summary['triangle count avg'] = triangle_i\n",
        "\n",
        "print(summary)\n"
      ],
      "execution_count": null,
      "outputs": [
        {
          "output_type": "stream",
          "name": "stdout",
          "text": [
            "     range  percentile avg  triangle count avg\n",
            "0   0 - 10        0.468222          205.646450\n",
            "1  10 - 20        0.825785          629.895242\n",
            "2  20 - 30        0.876647          759.583587\n",
            "3  30 - 40        0.904187          992.107477\n",
            "4  40 - 50        0.934042         1660.311475\n",
            "5  50 - 60        0.938401         1956.477273\n"
          ]
        }
      ]
    },
    {
      "cell_type": "markdown",
      "metadata": {
        "id": "BTwhcD4TuznJ"
      },
      "source": [
        "### **Motif Finding technique: to analyse the extent of influence of bad behaviour in the network**"
      ]
    },
    {
      "cell_type": "code",
      "metadata": {
        "id": "gcYQfzTXai8P"
      },
      "source": [
        "# Select subgraph when relationship > 0\n",
        "paths = g.find(\"(a)-[e]->(b)\")\\\n",
        "  .filter(\"e.relationship > 0\")\n",
        "\n",
        "# \"paths\" contains vertex info. Extract the edges.\n",
        "e2 = paths.select(\"e.src\", \"e.dst\", \"e.relationship\")\n",
        "e3 = paths.select(\"e.src\", \"e.dst\", \"e.relationship\")\n",
        "\n",
        "# Construct the subgraph\n",
        "g2 = GraphFrame(g.vertices, e2)\n",
        "g3 = GraphFrame(g.vertices, e3)"
      ],
      "execution_count": null,
      "outputs": []
    },
    {
      "cell_type": "code",
      "metadata": {
        "colab": {
          "base_uri": "https://localhost:8080/"
        },
        "id": "lh0VIfBFZBjq",
        "outputId": "f018a853-bbc3-4d72-a6f7-cb79ddec4e08"
      },
      "source": [
        "# Search for police officers that spread misconduct\n",
        "motifs = g.find(\"(a)-[e]->(b); (b)-[e2]->(c); (c)-[e3]->(d)\")\n",
        "motifs.show()\n",
        "motifs.select(\"a\").distinct().count()"
      ],
      "execution_count": null,
      "outputs": [
        {
          "output_type": "stream",
          "name": "stdout",
          "text": [
            "+--------------------+-------------+--------------------+-------------+--------------------+---------------+--------------------+\n",
            "|                   a|            e|                   b|           e2|                   c|             e3|                   d|\n",
            "+--------------------+-------------+--------------------+-------------+--------------------+---------------+--------------------+\n",
            "|{113, Donna Adams...|{113, 200, 1}|{200, Richard Agu...|{200, 241, 1}|{241, Willie Aker...|{241, 28412, 5}|{28412, Timothy T...|\n",
            "|{113, Donna Adams...|{113, 200, 1}|{200, Richard Agu...|{200, 241, 1}|{241, Willie Aker...|{241, 18069, 4}|{18069, James Mc ...|\n",
            "|{113, Donna Adams...|{113, 200, 1}|{200, Richard Agu...|{200, 241, 1}|{241, Willie Aker...| {241, 5782, 3}|{5782, Willie Cro...|\n",
            "|{113, Donna Adams...|{113, 200, 1}|{200, Richard Agu...|{200, 241, 1}|{241, Willie Aker...|{241, 26437, 2}|{26437, Theresa S...|\n",
            "|{113, Donna Adams...|{113, 200, 1}|{200, Richard Agu...|{200, 241, 1}|{241, Willie Aker...| {241, 1412, 1}|{1412, Martin Bar...|\n",
            "|{113, Donna Adams...|{113, 200, 1}|{200, Richard Agu...|{200, 241, 1}|{241, Willie Aker...| {241, 1509, 1}|{1509, Tyrone Bat...|\n",
            "|{113, Donna Adams...|{113, 200, 1}|{200, Richard Agu...|{200, 241, 1}|{241, Willie Aker...| {241, 6928, 1}|{6928, Dominic Di...|\n",
            "|{113, Donna Adams...|{113, 200, 1}|{200, Richard Agu...|{200, 241, 1}|{241, Willie Aker...|{241, 11485, 1}|{11485, Tommie Ha...|\n",
            "|{113, Donna Adams...|{113, 200, 1}|{200, Richard Agu...|{200, 241, 1}|{241, Willie Aker...|{241, 18183, 1}|{18183, Paul Mc G...|\n",
            "|{113, Donna Adams...|{113, 200, 1}|{200, Richard Agu...|{200, 241, 1}|{241, Willie Aker...|{241, 19905, 1}|{19905, Michael M...|\n",
            "|{113, Donna Adams...|{113, 200, 1}|{200, Richard Agu...|{200, 241, 1}|{241, Willie Aker...|{241, 23933, 1}|{23933, Calvin Ri...|\n",
            "|{113, Donna Adams...|{113, 200, 1}|{200, Richard Agu...|{200, 241, 1}|{241, Willie Aker...|{241, 27871, 1}|{27871, Gerome Su...|\n",
            "|{79, Erwin Acox, ...| {79, 200, 1}|{200, Richard Agu...|{200, 241, 1}|{241, Willie Aker...|{241, 28412, 5}|{28412, Timothy T...|\n",
            "|{79, Erwin Acox, ...| {79, 200, 1}|{200, Richard Agu...|{200, 241, 1}|{241, Willie Aker...|{241, 18069, 4}|{18069, James Mc ...|\n",
            "|{79, Erwin Acox, ...| {79, 200, 1}|{200, Richard Agu...|{200, 241, 1}|{241, Willie Aker...| {241, 5782, 3}|{5782, Willie Cro...|\n",
            "|{79, Erwin Acox, ...| {79, 200, 1}|{200, Richard Agu...|{200, 241, 1}|{241, Willie Aker...|{241, 26437, 2}|{26437, Theresa S...|\n",
            "|{79, Erwin Acox, ...| {79, 200, 1}|{200, Richard Agu...|{200, 241, 1}|{241, Willie Aker...| {241, 1412, 1}|{1412, Martin Bar...|\n",
            "|{79, Erwin Acox, ...| {79, 200, 1}|{200, Richard Agu...|{200, 241, 1}|{241, Willie Aker...| {241, 1509, 1}|{1509, Tyrone Bat...|\n",
            "|{79, Erwin Acox, ...| {79, 200, 1}|{200, Richard Agu...|{200, 241, 1}|{241, Willie Aker...| {241, 6928, 1}|{6928, Dominic Di...|\n",
            "|{79, Erwin Acox, ...| {79, 200, 1}|{200, Richard Agu...|{200, 241, 1}|{241, Willie Aker...|{241, 11485, 1}|{11485, Tommie Ha...|\n",
            "+--------------------+-------------+--------------------+-------------+--------------------+---------------+--------------------+\n",
            "only showing top 20 rows\n",
            "\n"
          ]
        },
        {
          "output_type": "execute_result",
          "data": {
            "text/plain": [
              "17215"
            ]
          },
          "metadata": {},
          "execution_count": 17
        }
      ]
    },
    {
      "cell_type": "markdown",
      "metadata": {
        "id": "9vmAD4OBvGKI"
      },
      "source": [
        "### **OutDegrees of officer nodes**"
      ]
    },
    {
      "cell_type": "code",
      "metadata": {
        "colab": {
          "base_uri": "https://localhost:8080/",
          "height": 875
        },
        "id": "5YtOhoDcigyP",
        "outputId": "f3abc91c-cbb5-46d5-b0bf-ef5b2d466d53"
      },
      "source": [
        "# outDegrees is the number of edges directed out of a vertex in a directed graph\n",
        "outDegrees = g.outDegrees.sort(['outDegree'],ascending=[0])\n",
        "outDegrees.show()\n",
        "\n",
        "df_outDegrees = outDegrees.toPandas()\n",
        "new_df = df_outDegrees.merge(pd_data_officer, left_on='id', right_on='id')\n",
        "new_df\n"
      ],
      "execution_count": null,
      "outputs": [
        {
          "output_type": "stream",
          "name": "stdout",
          "text": [
            "+----+---------+\n",
            "|  id|outDegree|\n",
            "+----+---------+\n",
            "|3033|      332|\n",
            "| 441|      330|\n",
            "|3744|      313|\n",
            "|6315|      300|\n",
            "|8138|      290|\n",
            "|2375|      266|\n",
            "|5667|      260|\n",
            "|5180|      258|\n",
            "| 200|      243|\n",
            "| 127|      241|\n",
            "|9821|      226|\n",
            "|8844|      225|\n",
            "|2369|      224|\n",
            "|1932|      222|\n",
            "|3220|      214|\n",
            "| 373|      208|\n",
            "| 843|      203|\n",
            "|1907|      203|\n",
            "|4844|      202|\n",
            "|1509|      201|\n",
            "+----+---------+\n",
            "only showing top 20 rows\n",
            "\n"
          ]
        },
        {
          "output_type": "execute_result",
          "data": {
            "text/html": [
              "<div>\n",
              "<style scoped>\n",
              "    .dataframe tbody tr th:only-of-type {\n",
              "        vertical-align: middle;\n",
              "    }\n",
              "\n",
              "    .dataframe tbody tr th {\n",
              "        vertical-align: top;\n",
              "    }\n",
              "\n",
              "    .dataframe thead th {\n",
              "        text-align: right;\n",
              "    }\n",
              "</style>\n",
              "<table border=\"1\" class=\"dataframe\">\n",
              "  <thead>\n",
              "    <tr style=\"text-align: right;\">\n",
              "      <th></th>\n",
              "      <th>id</th>\n",
              "      <th>outDegree</th>\n",
              "      <th>officer_name</th>\n",
              "      <th>unsustained_count</th>\n",
              "    </tr>\n",
              "  </thead>\n",
              "  <tbody>\n",
              "    <tr>\n",
              "      <th>0</th>\n",
              "      <td>3033</td>\n",
              "      <td>332</td>\n",
              "      <td>Raimondo Brown</td>\n",
              "      <td>8.0</td>\n",
              "    </tr>\n",
              "    <tr>\n",
              "      <th>1</th>\n",
              "      <td>441</td>\n",
              "      <td>330</td>\n",
              "      <td>Fernando Alonzo</td>\n",
              "      <td>12.0</td>\n",
              "    </tr>\n",
              "    <tr>\n",
              "      <th>2</th>\n",
              "      <td>3744</td>\n",
              "      <td>313</td>\n",
              "      <td>Derek Campbell</td>\n",
              "      <td>5.0</td>\n",
              "    </tr>\n",
              "    <tr>\n",
              "      <th>3</th>\n",
              "      <td>6315</td>\n",
              "      <td>300</td>\n",
              "      <td>Terence Davis</td>\n",
              "      <td>19.0</td>\n",
              "    </tr>\n",
              "    <tr>\n",
              "      <th>4</th>\n",
              "      <td>8138</td>\n",
              "      <td>290</td>\n",
              "      <td>Glenn Evans</td>\n",
              "      <td>74.0</td>\n",
              "    </tr>\n",
              "    <tr>\n",
              "      <th>...</th>\n",
              "      <td>...</td>\n",
              "      <td>...</td>\n",
              "      <td>...</td>\n",
              "      <td>...</td>\n",
              "    </tr>\n",
              "    <tr>\n",
              "      <th>18838</th>\n",
              "      <td>2800</td>\n",
              "      <td>1</td>\n",
              "      <td>John Bribiesca</td>\n",
              "      <td>1.0</td>\n",
              "    </tr>\n",
              "    <tr>\n",
              "      <th>18839</th>\n",
              "      <td>13812</td>\n",
              "      <td>1</td>\n",
              "      <td>Curtis Jones</td>\n",
              "      <td>0.0</td>\n",
              "    </tr>\n",
              "    <tr>\n",
              "      <th>18840</th>\n",
              "      <td>3376</td>\n",
              "      <td>1</td>\n",
              "      <td>Marcellus Burke</td>\n",
              "      <td>0.0</td>\n",
              "    </tr>\n",
              "    <tr>\n",
              "      <th>18841</th>\n",
              "      <td>17961</td>\n",
              "      <td>1</td>\n",
              "      <td>John Mc Carthy</td>\n",
              "      <td>0.0</td>\n",
              "    </tr>\n",
              "    <tr>\n",
              "      <th>18842</th>\n",
              "      <td>19260</td>\n",
              "      <td>1</td>\n",
              "      <td>Kenneth Mitchell</td>\n",
              "      <td>1.0</td>\n",
              "    </tr>\n",
              "  </tbody>\n",
              "</table>\n",
              "<p>18843 rows × 4 columns</p>\n",
              "</div>"
            ],
            "text/plain": [
              "          id  outDegree      officer_name  unsustained_count\n",
              "0       3033        332    Raimondo Brown                8.0\n",
              "1        441        330   Fernando Alonzo               12.0\n",
              "2       3744        313    Derek Campbell                5.0\n",
              "3       6315        300     Terence Davis               19.0\n",
              "4       8138        290       Glenn Evans               74.0\n",
              "...      ...        ...               ...                ...\n",
              "18838   2800          1    John Bribiesca                1.0\n",
              "18839  13812          1      Curtis Jones                0.0\n",
              "18840   3376          1   Marcellus Burke                0.0\n",
              "18841  17961          1    John Mc Carthy                0.0\n",
              "18842  19260          1  Kenneth Mitchell                1.0\n",
              "\n",
              "[18843 rows x 4 columns]"
            ]
          },
          "metadata": {},
          "execution_count": 19
        }
      ]
    },
    {
      "cell_type": "code",
      "metadata": {
        "colab": {
          "base_uri": "https://localhost:8080/"
        },
        "id": "aNjEh1-fiumu",
        "outputId": "9b0c4920-93ab-4395-da73-ed984d9be2ca"
      },
      "source": [
        "# Summary table of outDegrees\n",
        "\n",
        "unsustained_list = [0.0] * 6\n",
        "count_officers = [0] * 6\n",
        "outdegree_list = [0] * 6\n",
        "\n",
        "for i,row3 in new_df.iterrows():\n",
        "  unsustained_c = row3['unsustained_count']\n",
        "  outdeg = row3['outDegree']\n",
        "\n",
        "  if unsustained_c >= 50:\n",
        "    count_officers[5] = count_officers[5]+1\n",
        "    outdegree_list[5] = outdegree_list[5] + outdeg\n",
        "\n",
        "  elif unsustained_c >= 40 and unsustained_c < 50:\n",
        "    count_officers[4] = count_officers[4]+1\n",
        "    outdegree_list[4] = outdegree_list[4] + outdeg\n",
        "\n",
        "  elif unsustained_c >= 30 and unsustained_c < 40:\n",
        "    count_officers[3] = count_officers[3]+1\n",
        "    outdegree_list[3] = outdegree_list[3] + outdeg\n",
        "\n",
        "  elif unsustained_c >= 20 and unsustained_c < 30:\n",
        "    count_officers[2] = count_officers[2]+1\n",
        "    outdegree_list[2] = outdegree_list[2] + outdeg\n",
        "\n",
        "  elif unsustained_c >= 10 and unsustained_c < 20:\n",
        "    count_officers[1] = count_officers[1]+1\n",
        "    outdegree_list[1] = outdegree_list[1] + outdeg\n",
        "\n",
        "  elif unsustained_c < 10:\n",
        "    count_officers[0] = count_officers[0]+1\n",
        "    outdegree_list[0] = outdegree_list[0] + outdeg\n",
        "\n",
        "summary_outdegree = pd.DataFrame()\n",
        "unsustained_avg = []\n",
        "range_j = []\n",
        "outdegree_i = []\n",
        "iteration = [0,1,2,3,4,5]\n",
        "\n",
        "for k in iteration: \n",
        "  outdegree_aux = outdegree_list[k]/ count_officers[k]\n",
        "  range_aux = str(10*k)+\" - \"+str(10*(k+1))\n",
        "\n",
        "  range_j.append(range_aux)\n",
        "  outdegree_i.append(outdegree_aux)\n",
        "\n",
        "summary_outdegree['Unsustained range'] = range_j\n",
        "summary_outdegree['Outdegree avg'] = outdegree_i\n",
        "\n",
        "print(summary_outdegree)"
      ],
      "execution_count": null,
      "outputs": [
        {
          "output_type": "stream",
          "name": "stdout",
          "text": [
            "  Unsustained range  Outdegree avg\n",
            "0            0 - 10       9.543477\n",
            "1           10 - 20      20.999209\n",
            "2           20 - 30      27.201550\n",
            "3           30 - 40      32.773585\n",
            "4           40 - 50      43.866667\n",
            "5           50 - 60      55.500000\n"
          ]
        }
      ]
    }
  ]
}